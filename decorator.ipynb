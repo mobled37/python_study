{
 "cells": [
  {
   "attachments": {},
   "cell_type": "markdown",
   "metadata": {},
   "source": [
    "### Decorator \n",
    "A decorator is a construct that allows you to wrap a target function, define additional statements to be added before or after the wrapped function, and make it easily reusable. \n",
    "\n",
    "A decorator has the ability to run additional code before or after calling the wrapped function. This allows access to and modification of the input arguments and return values. \n",
    "\n",
    "### When is a decorator used? \n",
    "It is used when there is a main clause and you want to add additional clauses to it, or when you want to use the additional clause repeatedly. By declaring the additional work as a decorator, it can be used freely. "
   ]
  },
  {
   "cell_type": "code",
   "execution_count": 1,
   "metadata": {},
   "outputs": [
    {
     "name": "stdout",
     "output_type": "stream",
     "text": [
      "Main function start\n"
     ]
    }
   ],
   "source": [
    "def main_function():\n",
    "    print(\"Main function start\")\n",
    "    \n",
    "main_function()"
   ]
  },
  {
   "cell_type": "code",
   "execution_count": 4,
   "metadata": {},
   "outputs": [
    {
     "name": "stdout",
     "output_type": "stream",
     "text": [
      "2023-02-09 16:06:25.587316\n",
      "main function start\n",
      "2023-02-09 16:06:25.587509\n"
     ]
    }
   ],
   "source": [
    "# when not using decorator\n",
    "import datetime \n",
    "\n",
    "def main_function():\n",
    "    print(datetime.datetime.now())\n",
    "    print(\"main function start\")\n",
    "    print(datetime.datetime.now())\n",
    "\n",
    "main_function()"
   ]
  },
  {
   "cell_type": "code",
   "execution_count": 7,
   "metadata": {},
   "outputs": [
    {
     "name": "stdout",
     "output_type": "stream",
     "text": [
      "2023-02-09 16:08:24.324538\n",
      "main function 1 start\n",
      "2023-02-09 16:08:24.324720\n"
     ]
    }
   ],
   "source": [
    "# when using decorator\n",
    "import datetime\n",
    "\n",
    "def datetime_decorator(func):\n",
    "    def decorated():\n",
    "        print(datetime.datetime.now())\n",
    "        func()\n",
    "        print(datetime.datetime.now())\n",
    "    return decorated\n",
    "\n",
    "@datetime_decorator \n",
    "def main_function_1():\n",
    "    print(\"main function 1 start\")\n",
    "    \n",
    "main_function_1()"
   ]
  },
  {
   "attachments": {},
   "cell_type": "markdown",
   "metadata": {},
   "source": [
    "By reusing the decorator function, you can see that the readability and intuition of the main function have improved significantly. Even if the same pattern is used multiple times, it is simple to use @, making it convenient to use.\n",
    "\n",
    "> Looking at the declared parts,\n",
    "> * First, a function that acts as a decorator is defined, and this function takes the function to be applied to the decorator as an argument. Python takes advantage of its feature of being able to take a function as an argument for another function.    \n",
    "> * Within the decorator function, a function is declared (nested function) and additional work is declared here.    \n",
    "> * The nested function is returned.\n",
    "\n",
    "Finally, the main functions are called by adding the @ symbol before the functions that serve as the Decorator role.\n",
    "\n",
    "Additionally, it is not possible to intersperse statements in the middle of the target function's execution, just because the function is decorated by the Decorator. The Decorator's role is to easily allow for additional work to be done before and after the original work."
   ]
  },
  {
   "cell_type": "code",
   "execution_count": 9,
   "metadata": {},
   "outputs": [
    {
     "name": "stdout",
     "output_type": "stream",
     "text": [
      "wrapper1 has been decorated again by decorator 2\n",
      "function has been decorated by decorator 1\n",
      "This is original function\n"
     ]
    }
   ],
   "source": [
    "def decorator2(func): \n",
    "    def wrapper2(*args, **kwargs):\n",
    "        print(f'{func.__name__} has been decorated again by decorator 2')\n",
    "        return func(*args, **kwargs)\n",
    "    return wrapper2\n",
    "\n",
    "def decorator1(func):\n",
    "    def wrapper1(*args, **kwargs):\n",
    "        print(f'{func.__name__} has been decorated by decorator 1')\n",
    "        return func(*args, **kwargs)\n",
    "    return wrapper1\n",
    "\n",
    "@decorator2\n",
    "@decorator1\n",
    "def function(): \n",
    "    print(f'This is original function')\n",
    "    \n",
    "function()"
   ]
  },
  {
   "attachments": {},
   "cell_type": "markdown",
   "metadata": {},
   "source": [
    "In the above notebook, it can be observed that the decorator2 takes wrapper1 as an argument\n",
    "Essentially, wrapper1 is passed to decorator2. \n",
    "\n",
    "To avoid this behavior, Python employs the functools module's wraps decorator. "
   ]
  },
  {
   "cell_type": "code",
   "execution_count": 11,
   "metadata": {},
   "outputs": [
    {
     "name": "stdout",
     "output_type": "stream",
     "text": [
      "function has been decorated again by decorator 2\n",
      "function has been decorated by decorator 1\n",
      "This is original function\n"
     ]
    }
   ],
   "source": [
    "from functools import wraps \n",
    "\n",
    "def decorator2(func):\n",
    "    @wraps(func) \n",
    "    def wrapper2(*args, **kwargs):\n",
    "        print(f'{func.__name__} has been decorated again by decorator 2')\n",
    "        return func(*args, **kwargs)\n",
    "    return wrapper2\n",
    "\n",
    "def decorator1(func):\n",
    "    @wraps(func)\n",
    "    def wrapper1(*args, **kwargs):\n",
    "        print(f'{func.__name__} has been decorated by decorator 1')\n",
    "        return func(*args, **kwargs)\n",
    "    return wrapper1\n",
    "\n",
    "@decorator2\n",
    "@decorator1\n",
    "def function():\n",
    "    print(f\"This is original function\")\n",
    "    \n",
    "function()"
   ]
  },
  {
   "cell_type": "code",
   "execution_count": null,
   "metadata": {},
   "outputs": [],
   "source": []
  }
 ],
 "metadata": {
  "kernelspec": {
   "display_name": "py_study",
   "language": "python",
   "name": "python3"
  },
  "language_info": {
   "codemirror_mode": {
    "name": "ipython",
    "version": 3
   },
   "file_extension": ".py",
   "mimetype": "text/x-python",
   "name": "python",
   "nbconvert_exporter": "python",
   "pygments_lexer": "ipython3",
   "version": "3.10.9"
  },
  "orig_nbformat": 4,
  "vscode": {
   "interpreter": {
    "hash": "1ff64f5b776c2e14c103d44419cac16e2e782cc35f539aa93499dbbe9c6958ba"
   }
  }
 },
 "nbformat": 4,
 "nbformat_minor": 2
}
