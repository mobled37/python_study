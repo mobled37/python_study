{
 "cells": [
  {
   "attachments": {},
   "cell_type": "markdown",
   "metadata": {},
   "source": [
    "### self\n",
    "\n",
    "In python, 'self' is a special variable that is used within a class to refer to the instance of the class. \n",
    "\n",
    "When a method is called on an instance of a class, 'self' is automatically passed as the first argument to the method. \n",
    "\n",
    "For example, consider the following class: "
   ]
  },
  {
   "cell_type": "code",
   "execution_count": 1,
   "metadata": {},
   "outputs": [
    {
     "name": "stdout",
     "output_type": "stream",
     "text": [
      "10\n"
     ]
    }
   ],
   "source": [
    "class MyClass:\n",
    "    def __init__(self, value):\n",
    "        self.value = value \n",
    "        \n",
    "    def print_value(self):\n",
    "        print(self.value)\n",
    "        \n",
    "obj = MyClass(10)\n",
    "obj.print_value() "
   ]
  },
  {
   "attachments": {},
   "cell_type": "markdown",
   "metadata": {},
   "source": [
    "Here, 'self.value' is a class instance variable that is assigned the value of the 'value' argument passed to th constructor. \n",
    "\n",
    "And 'self.print_value()' is a method that prints the value of the 'value' instance variable. When you create an instance of the 'MyClass' class, the instance is passed as the 'self' argument when the methods are called.\n"
   ]
  },
  {
   "cell_type": "code",
   "execution_count": 1,
   "metadata": {},
   "outputs": [
    {
     "name": "stdout",
     "output_type": "stream",
     "text": [
      "function 2\n"
     ]
    }
   ],
   "source": [
    "class Foo:\n",
    "    def func1():\n",
    "        print(\"function 1\")\n",
    "    def func2(self):\n",
    "        print(\"function 2\")\n",
    "        \n",
    "f = Foo()\n",
    "f.func2()"
   ]
  },
  {
   "cell_type": "code",
   "execution_count": 2,
   "metadata": {},
   "outputs": [
    {
     "ename": "TypeError",
     "evalue": "Foo.func1() takes 0 positional arguments but 1 was given",
     "output_type": "error",
     "traceback": [
      "\u001b[0;31m---------------------------------------------------------------------------\u001b[0m",
      "\u001b[0;31mTypeError\u001b[0m                                 Traceback (most recent call last)",
      "Cell \u001b[0;32mIn[2], line 1\u001b[0m\n\u001b[0;32m----> 1\u001b[0m f\u001b[39m.\u001b[39;49mfunc1()\n",
      "\u001b[0;31mTypeError\u001b[0m: Foo.func1() takes 0 positional arguments but 1 was given"
     ]
    }
   ],
   "source": [
    "f.func1()"
   ]
  },
  {
   "attachments": {},
   "cell_type": "markdown",
   "metadata": {},
   "source": [
    "In the code, you can see that the function has been called normally and 'function2' is displayed on the screen. \n",
    "\n",
    "The first argument of the func2() method is 'self', but it is not passed when called because Python automatically passes the value for the first argument 'self'. \n",
    "\n",
    "What happens if a method is defined without any arguments, like the func1() method? If you call func1() through an instance, an error occurs. If you look at the error message, you can see that 'func1() takes 0 positional arguments but 1 was given' This is a problem that occurs because the instance is always passed as the first argument of the Python method, as previously described. \n",
    "\n",
    "<hr/>\n",
    "\n",
    "self represents the instance of the class. By using the “self”  we can access the attributes and methods of the class in python. It binds the attributes with the given arguments.\n",
    "\n",
    "The reason you need to use self. is because Python does not use the @ syntax to refer to instance attributes. Python decided to do methods in a way that makes the instance to which the method belongs be passed automatically, but not received automatically: the first parameter of methods is the instance the method is called on.\n",
    "\n",
    "In more clear way you can say that SELF has following Characteristic-"
   ]
  },
  {
   "cell_type": "code",
   "execution_count": 4,
   "metadata": {},
   "outputs": [
    {
     "name": "stdout",
     "output_type": "stream",
     "text": [
      "Address of self =  140226260662976\n",
      "Address of class object =  140226260662976\n"
     ]
    }
   ],
   "source": [
    "# it is clearly seen that self and obj is referring to the same object \n",
    "class check:\n",
    "    def __init__(self):\n",
    "        print(\"Address of self = \", id(self))\n",
    "        \n",
    "obj = check()\n",
    "print(\"Address of class object = \", id(obj))"
   ]
  },
  {
   "attachments": {},
   "cell_type": "markdown",
   "metadata": {},
   "source": [
    "\n",
    "\n"
   ]
  },
  {
   "cell_type": "code",
   "execution_count": 5,
   "metadata": {},
   "outputs": [
    {
     "name": "stdout",
     "output_type": "stream",
     "text": [
      "Model is audi a4\n",
      "color is blue\n",
      "Model is ferrari 488\n",
      "color is green\n",
      "Model for audi is  audi a4\n",
      "Colour for ferrari is  green\n"
     ]
    }
   ],
   "source": [
    "# Another example of using SELF: \n",
    "class car():\n",
    "    # init method or constructor \n",
    "    def __init__(self, model, color):\n",
    "        self.model = model \n",
    "        self.color = color \n",
    "        \n",
    "    def show(self):\n",
    "        print(\"Model is\", self.model)\n",
    "        print(\"color is\", self.color)\n",
    "        \n",
    "# both objects have different self which \n",
    "# contain their attributes \n",
    "audi = car(\"audi a4\", \"blue\")\n",
    "ferrari = car(\"ferrari 488\", \"green\")\n",
    "\n",
    "audi.show() # same output as car.show(audi)\n",
    "ferrari.show() # same output as car.show(ferrari)\n",
    "\n",
    "# note: we can also do like this\n",
    "print(\"Model for audi is \", audi.model)\n",
    "print(\"Colour for ferrari is \", ferrari.color)\n"
   ]
  },
  {
   "attachments": {},
   "cell_type": "markdown",
   "metadata": {},
   "source": [
    "This happens because after assigning in the constructor the attributes are linked to that particular object \n",
    "\n",
    "Here attributes(model, colour) are linked to objects (audi, ferrari) as we initialize them \n",
    "\n",
    "Behind the scene, in every instance method \n",
    "\n",
    "call, python sends the instances also with that method call like car.show(audi)"
   ]
  },
  {
   "cell_type": "code",
   "execution_count": 6,
   "metadata": {},
   "outputs": [
    {
     "ename": "TypeError",
     "evalue": "check.__init__() takes 0 positional arguments but 1 was given",
     "output_type": "error",
     "traceback": [
      "\u001b[0;31m---------------------------------------------------------------------------\u001b[0m",
      "\u001b[0;31mTypeError\u001b[0m                                 Traceback (most recent call last)",
      "Cell \u001b[0;32mIn[6], line 7\u001b[0m\n\u001b[1;32m      4\u001b[0m     \u001b[39mdef\u001b[39;00m \u001b[39m__init__\u001b[39m(): \n\u001b[1;32m      5\u001b[0m         \u001b[39mprint\u001b[39m(\u001b[39m\"\u001b[39m\u001b[39mThis is Constructor\u001b[39m\u001b[39m\"\u001b[39m)\n\u001b[0;32m----> 7\u001b[0m \u001b[39mobject\u001b[39m \u001b[39m=\u001b[39m check()\n\u001b[1;32m      8\u001b[0m \u001b[39mprint\u001b[39m(\u001b[39m\"\u001b[39m\u001b[39mWorked fine\u001b[39m\u001b[39m\"\u001b[39m)\n",
      "\u001b[0;31mTypeError\u001b[0m: check.__init__() takes 0 positional arguments but 1 was given"
     ]
    }
   ],
   "source": [
    "# Self is the first argument to be passed in Constructor and Instance Method. \n",
    "# Self is always required as the first argument \n",
    "class check:\n",
    "    def __init__(): \n",
    "        print(\"This is Constructor\")\n",
    "        \n",
    "object = check()\n",
    "print(\"Worked fine\")"
   ]
  },
  {
   "cell_type": "code",
   "execution_count": 7,
   "metadata": {},
   "outputs": [
    {
     "name": "stdout",
     "output_type": "stream",
     "text": [
      "We have used another parameter name in place of self\n"
     ]
    }
   ],
   "source": [
    "# self is parameter in instance Method and user can use another parameter name in place of it. \n",
    "# But it is advisable to use self because it increases the readability of code, and it is also a good programming practice. \n",
    "\n",
    "class this_is_class:\n",
    "    def __init__(in_place_of_self):\n",
    "        print(\"We have used another parameter name in place of self\")\n",
    "        \n",
    "object = this_is_class()"
   ]
  }
 ],
 "metadata": {
  "kernelspec": {
   "display_name": "py_study",
   "language": "python",
   "name": "python3"
  },
  "language_info": {
   "codemirror_mode": {
    "name": "ipython",
    "version": 3
   },
   "file_extension": ".py",
   "mimetype": "text/x-python",
   "name": "python",
   "nbconvert_exporter": "python",
   "pygments_lexer": "ipython3",
   "version": "3.10.9"
  },
  "orig_nbformat": 4,
  "vscode": {
   "interpreter": {
    "hash": "1ff64f5b776c2e14c103d44419cac16e2e782cc35f539aa93499dbbe9c6958ba"
   }
  }
 },
 "nbformat": 4,
 "nbformat_minor": 2
}
