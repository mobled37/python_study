{
 "cells": [
  {
   "attachments": {},
   "cell_type": "markdown",
   "metadata": {},
   "source": [
    "### *args\n",
    "\n",
    "In Python, *args is a special syntax for passing a variable number of arguments to a function. It allows you to pass multiple arguments as a tuple. The asterisk (*) before the parameter name args is what indicates that it will accept any number of arguments.\n",
    "\n",
    "* args = arguments, positional argument \n",
    "\n",
    "* kwargs = keyword arguments\n",
    "\n",
    "It does not have to name it as args, kwargs. \n",
    "And how to use it? "
   ]
  },
  {
   "cell_type": "code",
   "execution_count": 4,
   "metadata": {},
   "outputs": [
    {
     "name": "stdout",
     "output_type": "stream",
     "text": [
      "1\n",
      "2\n",
      "3\n",
      "4\n",
      "5\n"
     ]
    }
   ],
   "source": [
    "# For example, consider the following function definition:\n",
    "def my_function(*args):\n",
    "    for arg in args:\n",
    "        print(arg)\n",
    "        \n",
    "my_function(1, 2, 3, 4, 5)"
   ]
  },
  {
   "attachments": {},
   "cell_type": "markdown",
   "metadata": {},
   "source": [
    "In this above example, the five arguments passed to the function are collected into the 'args' tuple. \n",
    "\n",
    "You can then access each argument within the function using a loop or any other mechanism you choose. \n",
    "\n",
    "Here is the another example"
   ]
  },
  {
   "cell_type": "code",
   "execution_count": 1,
   "metadata": {},
   "outputs": [
    {
     "name": "stdout",
     "output_type": "stream",
     "text": [
      "arg1 : hello\n",
      "arg2 : 123\n"
     ]
    }
   ],
   "source": [
    "def func1(arg1, arg2):\n",
    "    print('arg1 : {}'.format(arg1))\n",
    "    print('arg2 : {}'.format(arg2))\n",
    "    \n",
    "func1('hello', 123)"
   ]
  },
  {
   "cell_type": "code",
   "execution_count": 3,
   "metadata": {},
   "outputs": [
    {
     "name": "stdout",
     "output_type": "stream",
     "text": [
      "hello 123\n",
      "<class 'tuple'>\n",
      "7\n",
      "('a', 'b', 1, 2, 3, 4, 5)\n",
      "\n",
      " ------------------ \n",
      "\n",
      "<class 'tuple'>\n",
      "9\n",
      "('hello', '123', 'a', 'b', 1, 2, 3, 4, 5)\n"
     ]
    }
   ],
   "source": [
    "def func2(arg1, arg2, *args):\n",
    "    print(arg1, arg2)\n",
    "    print(type(args))\n",
    "    print(len(args))\n",
    "    print(args)\n",
    "    \n",
    "def func3(*args):\n",
    "    print(type(args))\n",
    "    print(len(args))\n",
    "    print(args)\n",
    "    \n",
    "func2('hello', '123', 'a', 'b', 1, 2, 3, 4, 5)\n",
    "print('\\n ------------------ \\n')\n",
    "func3('hello', '123', 'a', 'b', 1, 2, 3, 4, 5)"
   ]
  },
  {
   "attachments": {},
   "cell_type": "markdown",
   "metadata": {},
   "source": [
    "When a parameter that was not present during the definition of the function is passed as an argument, it becomes part of the args tuple and is passed on. \n",
    "\n",
    "As a reference, a parameter refers to a variable when defining a function, while an argument refers to the variable passed in the place of a parameter when calling the function. \n",
    "\n",
    "<hr/>\n",
    "\n",
    "### **kwargs\n",
    "\n",
    "'**kwargs' is a special synthax in Python that allows a function to receive keyword arguments passed to it as a **dictionary**. \n",
    "\n",
    "It allows you to pass a variable number of keyword arguments to a function. \n",
    "\n",
    "The double asterisk syntax before the variabl name '**kwargs' is what makes it a keyword arguments dictionary. "
   ]
  },
  {
   "cell_type": "code",
   "execution_count": 5,
   "metadata": {},
   "outputs": [
    {
     "name": "stdout",
     "output_type": "stream",
     "text": [
      "a: 1\n",
      "b: 2\n",
      "c: 3\n",
      "d: 4\n",
      "e: 5\n"
     ]
    }
   ],
   "source": [
    "# for example, consider the following function definition:\n",
    "def foo(**kwargs):\n",
    "    for key, value in kwargs.items():\n",
    "        print(f\"{key}: {value}\")\n",
    "        \n",
    "foo(a=1, b=2, c=3, d=4, e=5)"
   ]
  },
  {
   "cell_type": "code",
   "execution_count": 6,
   "metadata": {},
   "outputs": [
    {
     "name": "stdout",
     "output_type": "stream",
     "text": [
      "arg: hello\n",
      "5\n",
      "('a', 'b', 1, 2, 'abc')\n",
      "<class 'dict'>\n",
      "{}\n",
      "\n",
      " -------------- \n",
      "\n",
      "arg: 1\n",
      "2\n",
      "(2, 3)\n",
      "<class 'dict'>\n",
      "{'some': 'value', 'kim': 'sooran'}\n"
     ]
    }
   ],
   "source": [
    "def func4(arg, *args, **kwargs):\n",
    "    print('arg: {}'.format(arg))\n",
    "    print(len(args))\n",
    "    print(args)\n",
    "    print(type(kwargs))\n",
    "    print(kwargs)\n",
    "    \n",
    "func4('hello', 'a', 'b', 1, 2, 'abc')\n",
    "print('\\n -------------- \\n')\n",
    "func4(1, 2, 3, some='value', kim='sooran')"
   ]
  },
  {
   "attachments": {},
   "cell_type": "markdown",
   "metadata": {},
   "source": [
    "As seen above, if arguments are passed to a function in a normal manner, nothing will be stored in kwargs. Also, it can be noted that kwargs is a dictionary.\n",
    "\n",
    "Originally, keyword argument are used when calling a python function to pass arguments by choosing only the desired arguments rather than passing them in the order in which the parameters are defined. \n",
    "\n",
    "However, if a parameter that is not defined in the function definition is passed as a keyword argument, it will be stored in the kwargs dictionary and passed along. \n",
    "\n",
    "It is important to note that when using *args and **kwargs, the order must be maintained when passing them. For example, calling the function in the following way: \n",
    "<pre>\n",
    "<code>\n",
    "func4('first', arg='apple', 3, 4, b='bee')\n",
    "</code>\n",
    "</pre>\n",
    "will result in an error regarding the order. \n",
    "\n",
    "Finally, let's look at the ways in which we can pass lists or dictionaries to functions that are defined with *args and **kwargs.\n",
    "\n",
    "It is important to note that the following method is \"it can also be done this way\" not \"it is used this way\""
   ]
  },
  {
   "cell_type": "code",
   "execution_count": 7,
   "metadata": {},
   "outputs": [
    {
     "name": "stdout",
     "output_type": "stream",
     "text": [
      "3\n",
      "('hello', 'hi', 'kim')\n",
      "3\n",
      "{'kim': 10000, 'lee': 500, 'hong': 1200}\n"
     ]
    }
   ],
   "source": [
    "def func5(*args, **kwargs):\n",
    "    print(len(args))\n",
    "    print(args)\n",
    "    print(len(kwargs))\n",
    "    print(kwargs)\n",
    "    \n",
    "items = ['hello', 'hi', 'kim']\n",
    "bank = {'kim' : 10000, 'lee' : 500, 'hong' : 1200}\n",
    "\n",
    "func5(*items, **bank)"
   ]
  }
 ],
 "metadata": {
  "kernelspec": {
   "display_name": "py_study",
   "language": "python",
   "name": "python3"
  },
  "language_info": {
   "codemirror_mode": {
    "name": "ipython",
    "version": 3
   },
   "file_extension": ".py",
   "mimetype": "text/x-python",
   "name": "python",
   "nbconvert_exporter": "python",
   "pygments_lexer": "ipython3",
   "version": "3.10.9"
  },
  "orig_nbformat": 4,
  "vscode": {
   "interpreter": {
    "hash": "1ff64f5b776c2e14c103d44419cac16e2e782cc35f539aa93499dbbe9c6958ba"
   }
  }
 },
 "nbformat": 4,
 "nbformat_minor": 2
}
